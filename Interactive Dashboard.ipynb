{
    "cells": [
        {
            "cell_type": "markdown",
            "metadata": {
                "collapsed": true
            },
            "source": "# Interactive Dashboard Using Plotly Dash"
        },
        {
            "cell_type": "markdown",
            "metadata": {},
            "source": "Install wget, dash and import Required Libraries"
        },
        {
            "cell_type": "code",
            "execution_count": null,
            "metadata": {},
            "outputs": [],
            "source": "# Install wget and dash\n\n!pip3 install wget dash"
        },
        {
            "cell_type": "code",
            "execution_count": null,
            "metadata": {},
            "outputs": [],
            "source": "# Import required libraries\n\nimport pandas as pd\nimport dash\nimport dash_html_components as html\nimport dash_core_components as dcc\nfrom dash.dependencies import Input, Output\nimport plotly.express as px"
        },
        {
            "cell_type": "markdown",
            "metadata": {},
            "source": "Read launch data csv file"
        },
        {
            "cell_type": "code",
            "execution_count": null,
            "metadata": {},
            "outputs": [],
            "source": "#Read launch data csv file\n\nspacex_launch_file = wget.download(\"https://cf-courses-data.s3.us.cloud-object-storage.appdomain.cloud/IBM-DS0321EN-SkillsNetwork/datasets/spacex_launch_dash.csv\")\n"
        },
        {
            "cell_type": "markdown",
            "metadata": {},
            "source": "Calculate maximum and minimum payload"
        },
        {
            "cell_type": "code",
            "execution_count": null,
            "metadata": {},
            "outputs": [],
            "source": "#Calculate maximum and minimum payload\n\nmax_payload = spacex_df['Payload Mass (kg)'].max()\nmin_payload = spacex_df['Payload Mass (kg)'].min()"
        },
        {
            "cell_type": "markdown",
            "metadata": {},
            "source": "Create a dash application"
        },
        {
            "cell_type": "code",
            "execution_count": null,
            "metadata": {},
            "outputs": [],
            "source": "# Create a dash application\n\napp = dash.Dash(__name__)"
        },
        {
            "cell_type": "markdown",
            "metadata": {},
            "source": "Create an app layout"
        },
        {
            "cell_type": "code",
            "execution_count": null,
            "metadata": {},
            "outputs": [],
            "source": "#Create an app layout\n\napp.layout = html.Div(children=[html.H1('SpaceX Launch Records Dashboard',\n                                        style={'textAlign': 'center', 'color': '#503D36',\n                                               'font-size': 40}),\n \n                                dcc.Dropdown(id='site-dropdown',\n                                    options=[\n                                        {'label':'All','value':'All'},\n                                        {'label':'CCAFS LC-40','value':'CCAFS LC-40'},\n                                        {'label':'CCAFS SLC-40','value':'CCAFS SLC-40'}, \n                                        {'label':'KSC LC-39A','value':'KSC LC-39A'},\n                                        {'label':'VAFB SLC-4E','value':'VAFB SLC-4E'},\n                                        ],\n                                    value='All',\n                                    placeholder='Select a Launch Site',\n                                    searchable=True,\n                                    ),\n                                html.Br(),\n\n                                \n                                html.Div(dcc.Graph(id='success-pie-chart')),\n                                html.Br(),\n\n                                html.P(\"Payload range (Kg):\"),\n \n                                dcc.RangeSlider(id='payload-slider',\n                                    min=0, max=10000, step=1000,\n                                    marks={0:'0 Kg',1000:'1000 Kg',2000:'2000 Kg',3000:'3000 Kg',\n                                           4000:'4000 Kg', 5000:'5000 Kg', 6000:'6000 Kg', 7000:'7000 Kg',\n                                           8000:'8000 Kg', 9000:'9000 Kg', 10000:'10000 Kg'},\n                                    value=[min_payload, max_payload]\n                                ),\n\n                               \n                                html.Div(dcc.Graph(id='success-payload-scatter-chart')),\n                                ])\n"
        },
        {
            "cell_type": "markdown",
            "metadata": {},
            "source": "Callback for Pie Chart"
        },
        {
            "cell_type": "code",
            "execution_count": null,
            "metadata": {},
            "outputs": [],
            "source": "#Callback for Pie Chart (Select All or Specific Launch Site)\n\n@app.callback(Output(component_id='success-pie-chart', component_property='figure'),\n               Input(component_id='site-dropdown', component_property='value'))\n\ndef get_graph(site):\n    # Selected Site or All Sites\n    if site == 'All':\n        fig = px.pie(spacex_df, values='class', names='Launch Site', title='Total Successful Launches by Site')\n    else:\n        #select_site = []\n        select_site = spacex_df[spacex_df['Launch Site'] == site ]\n        select_site = select_site.groupby('class', as_index=False, sort=True).count() \n        fig = px.pie(select_site, values='Launch Site', names='class', \n            title=\"Failure('0') vs Success('1') Launches for site \"+site,\n            color=\"class\",color_discrete_map={0:\"red\",1:\"green\"},\n            #category_orders={\"class\":[0,1]},\n            )\n\n    return fig"
        },
        {
            "cell_type": "markdown",
            "metadata": {},
            "source": "Callback for Payload Scatter Chart"
        },
        {
            "cell_type": "code",
            "execution_count": null,
            "metadata": {},
            "outputs": [],
            "source": "#Callback for Payload Scatter Chart (Select payload range from slider bar)\n\n@app.callback(Output(component_id='success-payload-scatter-chart', component_property='figure'),\n               [Input(component_id='site-dropdown', component_property='value'),\n               Input(component_id='payload-slider', component_property='value')])\n\ndef get_scatter(site,payloadRange):\n    # Selected Site or All Sites\n    \n    low, high = payloadRange\n    print(\"Site: \",site, \"payloadRange: \",payloadRange, \"low: \",low, \"high: \",high)\n    \n    mask = (spacex_df['Payload Mass (kg)'] >= low) & (spacex_df['Payload Mass (kg)'] <= high)\n\n    if site == 'All':\n        fig = px.scatter(spacex_df[mask], x='Payload Mass (kg)', y='class', color=\"Booster Version Category\")\n    else:\n        #select_site = []\n        select_site = spacex_df[spacex_df['Launch Site'] == site ]\n        fig = px.scatter(select_site[mask], x='Payload Mass (kg)', y='class', color=\"Booster Version Category\")\n\n    return fig"
        },
        {
            "cell_type": "markdown",
            "metadata": {},
            "source": "Run the app"
        },
        {
            "cell_type": "code",
            "execution_count": null,
            "metadata": {},
            "outputs": [],
            "source": "# Run the app\n\nif __name__ == '__main__':\n    app.run_server()"
        }
    ],
    "metadata": {
        "kernelspec": {
            "display_name": "Python 3.8",
            "language": "python",
            "name": "python3"
        },
        "language_info": {
            "codemirror_mode": {
                "name": "ipython",
                "version": 3
            },
            "file_extension": ".py",
            "mimetype": "text/x-python",
            "name": "python",
            "nbconvert_exporter": "python",
            "pygments_lexer": "ipython3",
            "version": "3.8.11"
        }
    },
    "nbformat": 4,
    "nbformat_minor": 1
}